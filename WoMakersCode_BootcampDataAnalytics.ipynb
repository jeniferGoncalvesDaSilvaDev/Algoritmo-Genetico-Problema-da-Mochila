{
  "nbformat": 4,
  "nbformat_minor": 0,
  "metadata": {
    "colab": {
      "provenance": [],
      "include_colab_link": true
    },
    "kernelspec": {
      "name": "python3",
      "display_name": "Python 3"
    },
    "language_info": {
      "name": "python"
    }
  },
  "cells": [
    {
      "cell_type": "markdown",
      "metadata": {
        "id": "view-in-github",
        "colab_type": "text"
      },
      "source": [
        "<a href=\"https://colab.research.google.com/github/jeniferGoncalvesDaSilvaDev/Algoritmo-Genetico-Problema-da-Mochila/blob/main/WoMakersCode_BootcampDataAnalytics.ipynb\" target=\"_parent\"><img src=\"https://colab.research.google.com/assets/colab-badge.svg\" alt=\"Open In Colab\"/></a>"
      ]
    },
    {
      "cell_type": "markdown",
      "source": [
        "1 ) Para determinar se um candidato está qualificado para uma vaga de emprego, são aplicados dois critérios:\n",
        "\n",
        "a) O candidato deve ter uma presença igual ou superior a 60% em um treinamento obrigatório.\n",
        "\n",
        "b) O candidato deve ter uma média de desempenho igual ou superior a 7 em uma série de testes.\n",
        "\n",
        "Para auxiliar na avaliação dos candidatos, você deve criar uma função que recebe uma lista de dicionários contendo o nome do candidato, a média de desempenho e a quantidade de horas de ausência do treinamento. Com esses dados, a função deve calcular se o candidato está qualificado ou não. A presença do candidato é calculada considerando que o treinamento teve um total de 60 horas e utilizando a fórmula:\n",
        "\n",
        "(Total horas - número de faltas)/Total horas * 100;\n"
      ],
      "metadata": {
        "id": "3UpM724I5C19"
      }
    },
    {
      "cell_type": "code",
      "source": [
        "#Execute seu código aqui\n",
        "funcionarios =[]\n",
        "i=0\n",
        "for i in range(0,2) :\n",
        "   nome = str(input('insira o nome'))\n",
        "   media_d =int(input('insira o desempenho'))\n",
        "   qtd_horas=float(input('insira as horas'))\n",
        "   funcionario ={'nome': nome, 'media_desempenho': media_d, 'horas':horas}\n",
        "   #print(funcionario)\n",
        "   funcionarios.append(funcionario)\n",
        "print(funcionarios)"
      ],
      "metadata": {
        "id": "Xv1MnjPQvkSt",
        "outputId": "000344f8-439e-44a6-9a46-bb301818f244",
        "colab": {
          "base_uri": "https://localhost:8080/"
        }
      },
      "execution_count": 10,
      "outputs": [
        {
          "output_type": "error",
          "ename": "KeyboardInterrupt",
          "evalue": "ignored",
          "traceback": [
            "\u001b[0;31m---------------------------------------------------------------------------\u001b[0m",
            "\u001b[0;31mKeyboardInterrupt\u001b[0m                         Traceback (most recent call last)",
            "\u001b[0;32m<ipython-input-10-edd524f0af10>\u001b[0m in \u001b[0;36m<cell line: 4>\u001b[0;34m()\u001b[0m\n\u001b[1;32m      3\u001b[0m \u001b[0mi\u001b[0m\u001b[0;34m=\u001b[0m\u001b[0;36m0\u001b[0m\u001b[0;34m\u001b[0m\u001b[0;34m\u001b[0m\u001b[0m\n\u001b[1;32m      4\u001b[0m \u001b[0;32mfor\u001b[0m \u001b[0mi\u001b[0m \u001b[0;32min\u001b[0m \u001b[0mrange\u001b[0m\u001b[0;34m(\u001b[0m\u001b[0;36m0\u001b[0m\u001b[0;34m,\u001b[0m\u001b[0;36m2\u001b[0m\u001b[0;34m)\u001b[0m \u001b[0;34m:\u001b[0m\u001b[0;34m\u001b[0m\u001b[0;34m\u001b[0m\u001b[0m\n\u001b[0;32m----> 5\u001b[0;31m    \u001b[0mnome\u001b[0m \u001b[0;34m=\u001b[0m \u001b[0mstr\u001b[0m\u001b[0;34m(\u001b[0m\u001b[0minput\u001b[0m\u001b[0;34m(\u001b[0m\u001b[0;34m'insira o nome'\u001b[0m\u001b[0;34m)\u001b[0m\u001b[0;34m)\u001b[0m\u001b[0;34m\u001b[0m\u001b[0;34m\u001b[0m\u001b[0m\n\u001b[0m\u001b[1;32m      6\u001b[0m    \u001b[0mmedia_d\u001b[0m \u001b[0;34m=\u001b[0m\u001b[0mint\u001b[0m\u001b[0;34m(\u001b[0m\u001b[0minput\u001b[0m\u001b[0;34m(\u001b[0m\u001b[0;34m'insira o desempenho'\u001b[0m\u001b[0;34m)\u001b[0m\u001b[0;34m)\u001b[0m\u001b[0;34m\u001b[0m\u001b[0;34m\u001b[0m\u001b[0m\n\u001b[1;32m      7\u001b[0m    \u001b[0mqtd_horas\u001b[0m\u001b[0;34m=\u001b[0m\u001b[0mfloat\u001b[0m\u001b[0;34m(\u001b[0m\u001b[0minput\u001b[0m\u001b[0;34m(\u001b[0m\u001b[0;34m'insira as horas'\u001b[0m\u001b[0;34m)\u001b[0m\u001b[0;34m)\u001b[0m\u001b[0;34m\u001b[0m\u001b[0;34m\u001b[0m\u001b[0m\n",
            "\u001b[0;32m/usr/local/lib/python3.10/dist-packages/ipykernel/kernelbase.py\u001b[0m in \u001b[0;36mraw_input\u001b[0;34m(self, prompt)\u001b[0m\n\u001b[1;32m    849\u001b[0m                 \u001b[0;34m\"raw_input was called, but this frontend does not support input requests.\"\u001b[0m\u001b[0;34m\u001b[0m\u001b[0;34m\u001b[0m\u001b[0m\n\u001b[1;32m    850\u001b[0m             )\n\u001b[0;32m--> 851\u001b[0;31m         return self._input_request(str(prompt),\n\u001b[0m\u001b[1;32m    852\u001b[0m             \u001b[0mself\u001b[0m\u001b[0;34m.\u001b[0m\u001b[0m_parent_ident\u001b[0m\u001b[0;34m,\u001b[0m\u001b[0;34m\u001b[0m\u001b[0;34m\u001b[0m\u001b[0m\n\u001b[1;32m    853\u001b[0m             \u001b[0mself\u001b[0m\u001b[0;34m.\u001b[0m\u001b[0m_parent_header\u001b[0m\u001b[0;34m,\u001b[0m\u001b[0;34m\u001b[0m\u001b[0;34m\u001b[0m\u001b[0m\n",
            "\u001b[0;32m/usr/local/lib/python3.10/dist-packages/ipykernel/kernelbase.py\u001b[0m in \u001b[0;36m_input_request\u001b[0;34m(self, prompt, ident, parent, password)\u001b[0m\n\u001b[1;32m    893\u001b[0m             \u001b[0;32mexcept\u001b[0m \u001b[0mKeyboardInterrupt\u001b[0m\u001b[0;34m:\u001b[0m\u001b[0;34m\u001b[0m\u001b[0;34m\u001b[0m\u001b[0m\n\u001b[1;32m    894\u001b[0m                 \u001b[0;31m# re-raise KeyboardInterrupt, to truncate traceback\u001b[0m\u001b[0;34m\u001b[0m\u001b[0;34m\u001b[0m\u001b[0m\n\u001b[0;32m--> 895\u001b[0;31m                 \u001b[0;32mraise\u001b[0m \u001b[0mKeyboardInterrupt\u001b[0m\u001b[0;34m(\u001b[0m\u001b[0;34m\"Interrupted by user\"\u001b[0m\u001b[0;34m)\u001b[0m \u001b[0;32mfrom\u001b[0m \u001b[0;32mNone\u001b[0m\u001b[0;34m\u001b[0m\u001b[0;34m\u001b[0m\u001b[0m\n\u001b[0m\u001b[1;32m    896\u001b[0m             \u001b[0;32mexcept\u001b[0m \u001b[0mException\u001b[0m \u001b[0;32mas\u001b[0m \u001b[0me\u001b[0m\u001b[0;34m:\u001b[0m\u001b[0;34m\u001b[0m\u001b[0;34m\u001b[0m\u001b[0m\n\u001b[1;32m    897\u001b[0m                 \u001b[0mself\u001b[0m\u001b[0;34m.\u001b[0m\u001b[0mlog\u001b[0m\u001b[0;34m.\u001b[0m\u001b[0mwarning\u001b[0m\u001b[0;34m(\u001b[0m\u001b[0;34m\"Invalid Message:\"\u001b[0m\u001b[0;34m,\u001b[0m \u001b[0mexc_info\u001b[0m\u001b[0;34m=\u001b[0m\u001b[0;32mTrue\u001b[0m\u001b[0;34m)\u001b[0m\u001b[0;34m\u001b[0m\u001b[0;34m\u001b[0m\u001b[0m\n",
            "\u001b[0;31mKeyboardInterrupt\u001b[0m: Interrupted by user"
          ]
        }
      ]
    },
    {
      "cell_type": "markdown",
      "source": [
        "2) Crie uma função que recebe uma palavra (string), separa todos os caracteres em uma lista, retorna esta lista e quantidade de letras."
      ],
      "metadata": {
        "id": "fKKdyWo55e8w"
      }
    },
    {
      "cell_type": "code",
      "source": [
        "#Execute seu código aqui"
      ],
      "metadata": {
        "id": "Qq7QoqubvjbG"
      },
      "execution_count": null,
      "outputs": []
    },
    {
      "cell_type": "markdown",
      "source": [
        "3) Crie um programa que leia quanto dinheiro uma pessoa tem na carteira, e calcule quanto poderia comprar de cada moeda estrangeira. Considere a tabela de conversão abaixo:\n",
        "\n",
        "Valor convertido em real:\n",
        "*   Dólar Americano: 4,91\n",
        "*   Peso Argentino: 0,02\n",
        "*   Dólar Australiano: 3,18\n",
        "*   Dólar Canadense: 3,64\n",
        "*   Franco Suiço: 0,42\n",
        "*   Euro:  5,36\n",
        "*   Libra esterlina: 6,21\n",
        "\n",
        "\n",
        "\n",
        "\n",
        "\n",
        "\n",
        "\n"
      ],
      "metadata": {
        "id": "EEXxWdjH5sju"
      }
    },
    {
      "cell_type": "code",
      "source": [
        "#Execute seu código aqui"
      ],
      "metadata": {
        "id": "BFil1HpZvbFg"
      },
      "execution_count": null,
      "outputs": []
    },
    {
      "cell_type": "markdown",
      "source": [
        "\n",
        "4) O chefe decidiu premiar os melhores funcionários de sua empresa com um brinde. Para isso ela vai entregar um brinde para todos os funcionários que tiverem uma performance superior a média da equipe.\n",
        "\n",
        "Elabore uma função que recebe uma lista de nome em formato de dict (dicionário) com nome do funcionário e a média do funcionário (Valor de 0 a 10). Esta função deve calcular a média da equipe, identificar quais funcionários tem média igual ou superior a média da equipe e retornar uma lista com o nome dos funcionários que possuem média igual ou superior a média da equipe. A ordem dos nomes da lista de retorno deve ser em ordem decrescente."
      ],
      "metadata": {
        "id": "Tj2Ds76-6FXs"
      }
    },
    {
      "cell_type": "code",
      "source": [
        "#Execute seu código aqui"
      ],
      "metadata": {
        "id": "poEG0mnOvgSO"
      },
      "execution_count": null,
      "outputs": []
    },
    {
      "cell_type": "markdown",
      "source": [
        "5) Na variável países_ano, temos uma lista de listas, em que cada elemento é uma lista de dois elementos, em que o primeiro é o nome de um país e o segundo é o ano em que a nação foi fundada."
      ],
      "metadata": {
        "id": "pVSP5n1T_ZWQ"
      }
    },
    {
      "cell_type": "code",
      "source": [
        "lista_paises = [[\"Brasil\", \"1500\"],[\"Mexico\",\"1519\"], [\"Inglaterra\", \"927\"], [\"Espanha\",\"1978\"], [\"Escocia\", \"843\"]]"
      ],
      "metadata": {
        "id": "zRywrNff01he"
      },
      "execution_count": null,
      "outputs": []
    },
    {
      "cell_type": "markdown",
      "source": [
        "Você deseja criar uma nova lista de listas a partir do exemplo (lista_paises), em que cada elemento é uma lista de dois elementos, sendo o primeiro o nome do país (como é na lista original) e o segundo é o número de anos desde a fundação do país (considere que o ano atual é 2023)."
      ],
      "metadata": {
        "id": "OpU-UWXC01Ca"
      }
    },
    {
      "cell_type": "code",
      "source": [
        "#Execute seu código aqui"
      ],
      "metadata": {
        "id": "xaEQxcMFvhVa"
      },
      "execution_count": null,
      "outputs": []
    },
    {
      "cell_type": "markdown",
      "source": [
        "6) Um jogador de um jogo de vídeo game deseja subir de nível em seu personagem ao atingir 50 inimigos derrotados. Enquanto esse número não é alcançado, uma mensagem indicando quantos inimigos ainda faltam é exibida na tela.\n"
      ],
      "metadata": {
        "id": "_qb748YiCzh-"
      }
    },
    {
      "cell_type": "code",
      "source": [
        "inimigos_derrotados = 0\n",
        "nivel = 0\n",
        "\n",
        "while (inimigos_derrotados < 50):\n",
        "\n",
        "    print(f\"Faltam {50 - inimigos_derrotados} inimigos para você mudar de nível!\")\n",
        "\n",
        "    # faça seu código aqui\n",
        "\n",
        "print(\"\\nVocê atingiu o próximo nível!\")\n",
        "nivel = 1"
      ],
      "metadata": {
        "id": "wooL40fJi_gj"
      },
      "execution_count": null,
      "outputs": []
    }
  ]
}