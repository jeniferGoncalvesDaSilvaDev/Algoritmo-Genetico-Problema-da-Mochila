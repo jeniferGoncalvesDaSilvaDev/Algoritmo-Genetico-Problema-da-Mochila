{
  "nbformat": 4,
  "nbformat_minor": 0,
  "metadata": {
    "colab": {
      "provenance": [],
      "include_colab_link": true
    },
    "kernelspec": {
      "name": "python3",
      "display_name": "Python 3"
    },
    "language_info": {
      "name": "python"
    }
  },
  "cells": [
    {
      "cell_type": "markdown",
      "metadata": {
        "id": "view-in-github",
        "colab_type": "text"
      },
      "source": [
        "<a href=\"https://colab.research.google.com/github/jeniferGoncalvesDaSilvaDev/Algoritmo-Genetico-Problema-da-Mochila/blob/main/WoMakersCode_BootcampDataAnalytics.ipynb\" target=\"_parent\"><img src=\"https://colab.research.google.com/assets/colab-badge.svg\" alt=\"Open In Colab\"/></a>"
      ]
    },
    {
      "cell_type": "markdown",
      "source": [
        "1 ) Para determinar se um candidato está qualificado para uma vaga de emprego, são aplicados dois critérios:\n",
        "\n",
        "a) O candidato deve ter uma presença igual ou superior a 60% em um treinamento obrigatório.\n",
        "\n",
        "b) O candidato deve ter uma média de desempenho igual ou superior a 7 em uma série de testes.\n",
        "\n",
        "Para auxiliar na avaliação dos candidatos, você deve criar uma função que recebe uma lista de dicionários contendo o nome do candidato, a média de desempenho e a quantidade de horas de ausência do treinamento. Com esses dados, a função deve calcular se o candidato está qualificado ou não. A presença do candidato é calculada considerando que o treinamento teve um total de 60 horas e utilizando a fórmula:\n",
        "\n",
        "(Total horas - número de faltas)/Total horas * 100;\n"
      ],
      "metadata": {
        "id": "3UpM724I5C19"
      }
    },
    {
      "cell_type": "code",
      "source": [
        "#Execute seu código aqui\n",
        "funcionarios =[]\n",
        "funcionario_qualificado =[]\n",
        "\n",
        "for i in range(0,4) :\n",
        "   nome = str(input('insira o nome: '))\n",
        "   media_d =int(input('insira o desempenho: '))\n",
        "   faltas=int(input('insira o numero de faltas: '))\n",
        "   funcionario ={'nome': nome, 'media_desempenho': media_d, 'faltas': faltas}\n",
        "   #print(funcionario)\n",
        "   funcionarios.append(funcionario)\n",
        "print(funcionarios)\n",
        "def avaliacao_funcionarios(funcionarios):\n",
        "  for  funcionario in funcionarios:\n",
        "    # Calcula a presença do candidato.\n",
        "    presenca = (60 - funcionario['faltas'])/60* 100\n",
        "    if presenca >=60 and funcionario['media_desempenho']>=7:\n",
        "      funcionario_qualificado.append(funcionario['nome'])\n",
        "      funcionario_qualificado.append(presenca)\n",
        "      funcionario_qualificado.append(funcionario['media_desempenho'])\n",
        "  return funcionario_qualificado\n",
        "\n",
        "\n",
        "avaliacao_funcionarios(funcionarios)"
      ],
      "metadata": {
        "id": "Xv1MnjPQvkSt",
        "outputId": "4f10767a-fb3f-4df7-f099-1eeab1d28618",
        "colab": {
          "base_uri": "https://localhost:8080/"
        }
      },
      "execution_count": 24,
      "outputs": [
        {
          "output_type": "stream",
          "name": "stdout",
          "text": [
            "insira o nome: jenifer\n",
            "insira o desempenho: 8\n",
            "insira o numero de faltas: 10\n",
            "insira o nome: mika\n",
            "insira o desempenho: 10\n",
            "insira o numero de faltas: 0\n",
            "insira o nome: jen\n",
            "insira o desempenho: 10\n",
            "insira o numero de faltas: 30\n",
            "insira o nome: alice\n",
            "insira o desempenho: 5\n",
            "insira o numero de faltas: 0\n",
            "[{'nome': 'jenifer', 'media_desempenho': 8, 'faltas': 10}, {'nome': 'mika', 'media_desempenho': 10, 'faltas': 0}, {'nome': 'jen', 'media_desempenho': 10, 'faltas': 30}, {'nome': 'alice', 'media_desempenho': 5, 'faltas': 0}]\n"
          ]
        },
        {
          "output_type": "execute_result",
          "data": {
            "text/plain": [
              "['jenifer', 83.33333333333334, 'mika', 100.0]"
            ]
          },
          "metadata": {},
          "execution_count": 24
        }
      ]
    },
    {
      "cell_type": "markdown",
      "source": [
        "2) Crie uma função que recebe uma palavra (string), separa todos os caracteres em uma lista, retorna esta lista e quantidade de letras."
      ],
      "metadata": {
        "id": "fKKdyWo55e8w"
      }
    },
    {
      "cell_type": "code",
      "source": [
        "#Execute seu código aqui\n",
        "palavra = str(input('insira uma palavra: '))\n",
        "print(palavra)\n",
        "palavra_sem_espaco = palavra.strip()\n",
        "lista=[]\n",
        "def contar_letra(palavra_sem_espaco):\n",
        "  for letra in palavra_sem_espaco:\n",
        "    #print(letra)\n",
        "    lista.append(letra)\n",
        "  print(lista)\n",
        "  return len(lista)\n",
        "contar_letra(palavra_sem_espaco)"
      ],
      "metadata": {
        "id": "Qq7QoqubvjbG",
        "outputId": "135194ff-1ea3-4f2c-bad5-f5963d578ef5",
        "colab": {
          "base_uri": "https://localhost:8080/"
        }
      },
      "execution_count": 45,
      "outputs": [
        {
          "output_type": "stream",
          "name": "stdout",
          "text": [
            "insira uma palavra: python\n",
            "python\n",
            "['p', 'y', 't', 'h', 'o', 'n']\n"
          ]
        },
        {
          "output_type": "execute_result",
          "data": {
            "text/plain": [
              "6"
            ]
          },
          "metadata": {},
          "execution_count": 45
        }
      ]
    },
    {
      "cell_type": "markdown",
      "source": [
        "3) Crie um programa que leia quanto dinheiro uma pessoa tem na carteira, e calcule quanto poderia comprar de cada moeda estrangeira. Considere a tabela de conversão abaixo:\n",
        "\n",
        "Valor convertido em real:\n",
        "*   Dólar Americano: 4,91\n",
        "*   Peso Argentino: 0,02\n",
        "*   Dólar Australiano: 3,18\n",
        "*   Dólar Canadense: 3,64\n",
        "*   Franco Suiço: 0,42\n",
        "*   Euro:  5,36\n",
        "*   Libra esterlina: 6,21\n",
        "\n",
        "\n",
        "\n",
        "\n",
        "\n",
        "\n",
        "\n"
      ],
      "metadata": {
        "id": "EEXxWdjH5sju"
      }
    },
    {
      "cell_type": "code",
      "source": [
        "#Execute seu código aqui\n",
        "dinheiro = float(input('insira sua quantia na carteira: '))\n",
        "dolar = dinheiro *4.91\n",
        "print(f'Podera comprar esse valoe em dolar: {dolar}')\n",
        "peso_argentino = dinheiro *0.02\n",
        "print(f'Podera comprar esse valoe em peso argentino: {peso_argentino}')\n",
        "dolar_australiano = dinheiro * 3.18\n",
        "print(f'Podera comprar esse valoe em dolar australiano: {dolar_australiano}')\n",
        "dolar_canadense = dinheiro * 3.64\n",
        "print(f'Podera comprar esse valoe em dolar canadense: {dolar_canadense}')\n",
        "franco_suico = dinheiro * 0.42\n",
        "print(f'Podera comprar esse valoe em franco suiço: {franco_suico}')\n",
        "euro = dinheiro *5.36\n",
        "print(f'Podera comprar esse valoe em euro: {euro}')\n",
        "libra_esterlina = dinheiro * 6.21\n",
        "print(f'Podera comprar esse valoe em libra: {libra_esterlina}')\n"
      ],
      "metadata": {
        "id": "BFil1HpZvbFg",
        "outputId": "a030fe19-fc7a-4291-e919-e248ddba92fc",
        "colab": {
          "base_uri": "https://localhost:8080/"
        }
      },
      "execution_count": 48,
      "outputs": [
        {
          "output_type": "stream",
          "name": "stdout",
          "text": [
            "insira sua quantia na carteira: 100.00\n",
            "Podera comprar esse valoe em dolar: 491.0\n",
            "Podera comprar esse valoe em peso argentino: 2.0\n",
            "Podera comprar esse valoe em dolar australiano: 318.0\n",
            "Podera comprar esse valoe em dolar canadense: 364.0\n",
            "Podera comprar esse valoe em franco suiço: 42.0\n",
            "Podera comprar esse valoe em euro: 536.0\n",
            "Podera comprar esse valoe em libra: 621.0\n"
          ]
        }
      ]
    },
    {
      "cell_type": "markdown",
      "source": [
        "\n",
        "4) O chefe decidiu premiar os melhores funcionários de sua empresa com um brinde. Para isso ela vai entregar um brinde para todos os funcionários que tiverem uma performance superior a média da equipe.\n",
        "\n",
        "Elabore uma função que recebe uma lista de nome em formato de dict (dicionário) com nome do funcionário e a média do funcionário (Valor de 0 a 10). Esta função deve calcular a média da equipe, identificar quais funcionários tem média igual ou superior a média da equipe e retornar uma lista com o nome dos funcionários que possuem média igual ou superior a média da equipe. A ordem dos nomes da lista de retorno deve ser em ordem decrescente."
      ],
      "metadata": {
        "id": "Tj2Ds76-6FXs"
      }
    },
    {
      "cell_type": "markdown",
      "source": [
        "\n",
        "4) O chefe decidiu premiar os melhores funcionários de sua empresa com um brinde. Para isso ela vai entregar um brinde para todos os funcionários que tiverem uma performance superior a média da equipe.\n",
        "\n",
        "Elabore uma função que recebe uma lista de nome em formato de dict (dicionário) com nome do funcionário e a média do funcionário (Valor de 0 a 10). Esta função deve calcular a média da equipe, identificar quais funcionários tem média igual ou superior a média da equipe e retornar uma lista com o nome dos funcionários que possuem média igual ou superior a média da equipe. A ordem dos nomes da lista de retorno deve ser em ordem decrescente."
      ],
      "metadata": {
        "id": "3rwP-JRB1ImL"
      }
    },
    {
      "cell_type": "code",
      "source": [
        "#Execute seu código aqui\n",
        "lista=[]\n",
        "lista_melhores_funcionarios=[]\n",
        "soma=0\n",
        "for i in range(0,4):\n",
        "  nome = str(input('insira o nome: '))\n",
        "  media=int(input('insira a media de 0 a 10: '))\n",
        "  funcionario = {'nome': nome, 'media': media}\n",
        "  lista.append(funcionario)\n",
        "print(lista)\n",
        "def melhor_funcionario(lista):\n",
        "  for funcionario in lista:\n",
        "    #calcular a media\n",
        "    team_avg = sum(funcionario[\"media\"] for funcionario in lista) / len(lista)\n",
        "    if funcionario['media']>= team_avg:\n",
        "      lista_melhores_funcionarios.append(funcionario['nome'])\n",
        "      lista_melhores_funcionarios.append(media)\n",
        "  return lista_melhores_funcionarios\n",
        "\n",
        "\n",
        "melhor_funcionario(lista)"
      ],
      "metadata": {
        "id": "poEG0mnOvgSO",
        "outputId": "1c2a318e-43df-4a5d-e226-170a53c191a7",
        "colab": {
          "base_uri": "https://localhost:8080/"
        }
      },
      "execution_count": 61,
      "outputs": [
        {
          "output_type": "stream",
          "name": "stdout",
          "text": [
            "insira o nome: jenifer\n",
            "insira a media de 0 a 10: 10\n",
            "insira o nome: mika\n",
            "insira a media de 0 a 10: 8\n",
            "insira o nome: jen\n",
            "insira a media de 0 a 10: 4\n",
            "insira o nome: alice\n",
            "insira a media de 0 a 10: 7\n",
            "[{'nome': 'jenifer', 'media': 10}, {'nome': 'mika', 'media': 8}, {'nome': 'jen', 'media': 4}, {'nome': 'alice', 'media': 7}]\n"
          ]
        },
        {
          "output_type": "execute_result",
          "data": {
            "text/plain": [
              "['jenifer', 7, 'mika', 7]"
            ]
          },
          "metadata": {},
          "execution_count": 61
        }
      ]
    },
    {
      "cell_type": "markdown",
      "source": [
        "5) Na variável países_ano, temos uma lista de listas, em que cada elemento é uma lista de dois elementos, em que o primeiro é o nome de um país e o segundo é o ano em que a nação foi fundada."
      ],
      "metadata": {
        "id": "pVSP5n1T_ZWQ"
      }
    },
    {
      "cell_type": "code",
      "source": [
        "lista_paises = [[\"Brasil\", \"1500\"],[\"Mexico\",\"1519\"], [\"Inglaterra\", \"927\"], [\"Espanha\",\"1978\"], [\"Escocia\", \"843\"]]"
      ],
      "metadata": {
        "id": "zRywrNff01he"
      },
      "execution_count": null,
      "outputs": []
    },
    {
      "cell_type": "markdown",
      "source": [
        "Você deseja criar uma nova lista de listas a partir do exemplo (lista_paises), em que cada elemento é uma lista de dois elementos, sendo o primeiro o nome do país (como é na lista original) e o segundo é o número de anos desde a fundação do país (considere que o ano atual é 2023)."
      ],
      "metadata": {
        "id": "OpU-UWXC01Ca"
      }
    },
    {
      "cell_type": "code",
      "source": [
        "#Execute seu código aqui"
      ],
      "metadata": {
        "id": "xaEQxcMFvhVa"
      },
      "execution_count": null,
      "outputs": []
    },
    {
      "cell_type": "markdown",
      "source": [
        "6) Um jogador de um jogo de vídeo game deseja subir de nível em seu personagem ao atingir 50 inimigos derrotados. Enquanto esse número não é alcançado, uma mensagem indicando quantos inimigos ainda faltam é exibida na tela.\n"
      ],
      "metadata": {
        "id": "_qb748YiCzh-"
      }
    },
    {
      "cell_type": "code",
      "source": [
        "inimigos_derrotados = 0\n",
        "nivel = 0\n",
        "\n",
        "while (inimigos_derrotados < 50):\n",
        "\n",
        "    print(f\"Faltam {50 - inimigos_derrotados} inimigos para você mudar de nível!\")\n",
        "\n",
        "    # faça seu código aqui\n",
        "\n",
        "print(\"\\nVocê atingiu o próximo nível!\")\n",
        "nivel = 1"
      ],
      "metadata": {
        "id": "wooL40fJi_gj"
      },
      "execution_count": null,
      "outputs": []
    }
  ]
}